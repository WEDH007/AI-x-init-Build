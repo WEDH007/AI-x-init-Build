{
  "nbformat": 4,
  "nbformat_minor": 0,
  "metadata": {
    "colab": {
      "provenance": [],
      "gpuType": "T4"
    },
    "kernelspec": {
      "name": "python3",
      "display_name": "Python 3"
    },
    "language_info": {
      "name": "python"
    },
    "accelerator": "GPU"
  },
  "cells": [
    {
      "cell_type": "markdown",
      "source": [
        "# Random Forest Implementation"
      ],
      "metadata": {
        "id": "8hod2QNhyYHV"
      }
    },
    {
      "cell_type": "markdown",
      "source": [
        "## Preprocessing"
      ],
      "metadata": {
        "id": "fzhu8pIVyfsd"
      }
    },
    {
      "cell_type": "code",
      "source": [
        "# Import necessary libraries\n",
        "import pandas as pd\n",
        "from sklearn.model_selection import train_test_split\n",
        "from sklearn.ensemble import RandomForestClassifier\n",
        "from sklearn.metrics import accuracy_score, classification_report\n",
        "from sklearn.preprocessing import StandardScaler\n",
        "import matplotlib.pyplot as plt\n",
        "from sklearn.tree import plot_tree"
      ],
      "metadata": {
        "id": "OhHbcSqoydwQ"
      },
      "execution_count": null,
      "outputs": []
    },
    {
      "cell_type": "code",
      "source": [
        "# Define the preprocess_df function\n",
        "def preprocess_df(df):\n",
        "\n",
        "    # Exclude 'type' from the list of categorical columns for encoding\n",
        "    categorical_cols = df.select_dtypes(include=['object', 'bool']).columns.tolist()\n",
        "    categorical_cols.remove('type')  # Exclude 'type' column\n",
        "\n",
        "    # Fill missing numeric values with the median\n",
        "    numeric_cols = df.select_dtypes(include=['float64', 'int64']).columns\n",
        "    df[numeric_cols] = df[numeric_cols].apply(lambda x: x.fillna(x.median()))\n",
        "\n",
        "    # Fill missing categorical values with the mode (excluding 'type')\n",
        "    df[categorical_cols] = df[categorical_cols].apply(lambda x: x.fillna(x.mode()[0]))\n",
        "\n",
        "    # Encode the categorical variables\n",
        "    df = pd.get_dummies(df, columns=categorical_cols)\n",
        "\n",
        "    # Proceed with scaling the numeric features\n",
        "    scaler = StandardScaler()\n",
        "    df[numeric_cols] = scaler.fit_transform(df[numeric_cols])\n",
        "\n",
        "    return df"
      ],
      "metadata": {
        "id": "nxAtyBMR23wC"
      },
      "execution_count": null,
      "outputs": []
    },
    {
      "cell_type": "code",
      "source": [
        "# Load the dataset\n",
        "df = pd.read_csv('train_test_network.csv')\n",
        "\n",
        "# Preprocess the data using the preprocess_df function\n",
        "df = preprocess_df(df)"
      ],
      "metadata": {
        "id": "v28RkwAdUhz4"
      },
      "execution_count": null,
      "outputs": []
    },
    {
      "cell_type": "markdown",
      "source": [
        "## Training model"
      ],
      "metadata": {
        "id": "6GmB5S8r3OTU"
      }
    },
    {
      "cell_type": "code",
      "source": [
        "# Separate the features (X) from the target variable (y)\n",
        "X = df.drop('type', axis=1)  # Features\n",
        "y = df['type']  # Target variable\n",
        "\n",
        "# Split the dataset into training (80%) and testing (20%) sets\n",
        "X_train, X_test, y_train, y_test = train_test_split(X, y, test_size=0.2, random_state=42)\n",
        "\n",
        "# Check the size of the splits\n",
        "print(f\"Training set size: {X_train.shape[0]} rows\")\n",
        "print(f\"Testing set size: {X_test.shape[0]} rows\")"
      ],
      "metadata": {
        "colab": {
          "base_uri": "https://localhost:8080/"
        },
        "id": "3PesuTbjzFcQ",
        "outputId": "2a5c40c6-8035-48bf-b9ec-cf99bb0d66af"
      },
      "execution_count": null,
      "outputs": [
        {
          "output_type": "stream",
          "name": "stdout",
          "text": [
            "Training set size: 168834 rows\n",
            "Testing set size: 42209 rows\n"
          ]
        }
      ]
    },
    {
      "cell_type": "code",
      "source": [
        "# Train the Random Forest model\n",
        "rf_classifier = RandomForestClassifier(n_estimators=5, criterion='entropy', random_state=42)\n",
        "rf_classifier.fit(X_train, y_train)"
      ],
      "metadata": {
        "colab": {
          "base_uri": "https://localhost:8080/",
          "height": 74
        },
        "id": "yN3JUpfK3WRN",
        "outputId": "02576ee9-2ec0-44de-e00c-295cf02858b7"
      },
      "execution_count": null,
      "outputs": [
        {
          "output_type": "execute_result",
          "data": {
            "text/plain": [
              "RandomForestClassifier(criterion='entropy', n_estimators=5, random_state=42)"
            ],
            "text/html": [
              "<style>#sk-container-id-1 {color: black;background-color: white;}#sk-container-id-1 pre{padding: 0;}#sk-container-id-1 div.sk-toggleable {background-color: white;}#sk-container-id-1 label.sk-toggleable__label {cursor: pointer;display: block;width: 100%;margin-bottom: 0;padding: 0.3em;box-sizing: border-box;text-align: center;}#sk-container-id-1 label.sk-toggleable__label-arrow:before {content: \"▸\";float: left;margin-right: 0.25em;color: #696969;}#sk-container-id-1 label.sk-toggleable__label-arrow:hover:before {color: black;}#sk-container-id-1 div.sk-estimator:hover label.sk-toggleable__label-arrow:before {color: black;}#sk-container-id-1 div.sk-toggleable__content {max-height: 0;max-width: 0;overflow: hidden;text-align: left;background-color: #f0f8ff;}#sk-container-id-1 div.sk-toggleable__content pre {margin: 0.2em;color: black;border-radius: 0.25em;background-color: #f0f8ff;}#sk-container-id-1 input.sk-toggleable__control:checked~div.sk-toggleable__content {max-height: 200px;max-width: 100%;overflow: auto;}#sk-container-id-1 input.sk-toggleable__control:checked~label.sk-toggleable__label-arrow:before {content: \"▾\";}#sk-container-id-1 div.sk-estimator input.sk-toggleable__control:checked~label.sk-toggleable__label {background-color: #d4ebff;}#sk-container-id-1 div.sk-label input.sk-toggleable__control:checked~label.sk-toggleable__label {background-color: #d4ebff;}#sk-container-id-1 input.sk-hidden--visually {border: 0;clip: rect(1px 1px 1px 1px);clip: rect(1px, 1px, 1px, 1px);height: 1px;margin: -1px;overflow: hidden;padding: 0;position: absolute;width: 1px;}#sk-container-id-1 div.sk-estimator {font-family: monospace;background-color: #f0f8ff;border: 1px dotted black;border-radius: 0.25em;box-sizing: border-box;margin-bottom: 0.5em;}#sk-container-id-1 div.sk-estimator:hover {background-color: #d4ebff;}#sk-container-id-1 div.sk-parallel-item::after {content: \"\";width: 100%;border-bottom: 1px solid gray;flex-grow: 1;}#sk-container-id-1 div.sk-label:hover label.sk-toggleable__label {background-color: #d4ebff;}#sk-container-id-1 div.sk-serial::before {content: \"\";position: absolute;border-left: 1px solid gray;box-sizing: border-box;top: 0;bottom: 0;left: 50%;z-index: 0;}#sk-container-id-1 div.sk-serial {display: flex;flex-direction: column;align-items: center;background-color: white;padding-right: 0.2em;padding-left: 0.2em;position: relative;}#sk-container-id-1 div.sk-item {position: relative;z-index: 1;}#sk-container-id-1 div.sk-parallel {display: flex;align-items: stretch;justify-content: center;background-color: white;position: relative;}#sk-container-id-1 div.sk-item::before, #sk-container-id-1 div.sk-parallel-item::before {content: \"\";position: absolute;border-left: 1px solid gray;box-sizing: border-box;top: 0;bottom: 0;left: 50%;z-index: -1;}#sk-container-id-1 div.sk-parallel-item {display: flex;flex-direction: column;z-index: 1;position: relative;background-color: white;}#sk-container-id-1 div.sk-parallel-item:first-child::after {align-self: flex-end;width: 50%;}#sk-container-id-1 div.sk-parallel-item:last-child::after {align-self: flex-start;width: 50%;}#sk-container-id-1 div.sk-parallel-item:only-child::after {width: 0;}#sk-container-id-1 div.sk-dashed-wrapped {border: 1px dashed gray;margin: 0 0.4em 0.5em 0.4em;box-sizing: border-box;padding-bottom: 0.4em;background-color: white;}#sk-container-id-1 div.sk-label label {font-family: monospace;font-weight: bold;display: inline-block;line-height: 1.2em;}#sk-container-id-1 div.sk-label-container {text-align: center;}#sk-container-id-1 div.sk-container {/* jupyter's `normalize.less` sets `[hidden] { display: none; }` but bootstrap.min.css set `[hidden] { display: none !important; }` so we also need the `!important` here to be able to override the default hidden behavior on the sphinx rendered scikit-learn.org. See: https://github.com/scikit-learn/scikit-learn/issues/21755 */display: inline-block !important;position: relative;}#sk-container-id-1 div.sk-text-repr-fallback {display: none;}</style><div id=\"sk-container-id-1\" class=\"sk-top-container\"><div class=\"sk-text-repr-fallback\"><pre>RandomForestClassifier(criterion=&#x27;entropy&#x27;, n_estimators=5, random_state=42)</pre><b>In a Jupyter environment, please rerun this cell to show the HTML representation or trust the notebook. <br />On GitHub, the HTML representation is unable to render, please try loading this page with nbviewer.org.</b></div><div class=\"sk-container\" hidden><div class=\"sk-item\"><div class=\"sk-estimator sk-toggleable\"><input class=\"sk-toggleable__control sk-hidden--visually\" id=\"sk-estimator-id-1\" type=\"checkbox\" checked><label for=\"sk-estimator-id-1\" class=\"sk-toggleable__label sk-toggleable__label-arrow\">RandomForestClassifier</label><div class=\"sk-toggleable__content\"><pre>RandomForestClassifier(criterion=&#x27;entropy&#x27;, n_estimators=5, random_state=42)</pre></div></div></div></div></div>"
            ]
          },
          "metadata": {},
          "execution_count": 5
        }
      ]
    },
    {
      "cell_type": "code",
      "source": [
        "from sklearn.feature_selection import RFE\n",
        "from sklearn.ensemble import RandomForestClassifier\n",
        "\n",
        "def select_features(X_train, y_train, num_features_to_select):\n",
        "    estimator = RandomForestClassifier(n_estimators=100, random_state=42)\n",
        "    rfe = RFE(estimator, n_features_to_select=num_features_to_select)\n",
        "    rfe.fit(X_train, y_train)\n",
        "    selected_feature_indices = rfe.support_\n",
        "    selected_feature_names = X_train.columns[selected_feature_indices]\n",
        "    return selected_feature_names"
      ],
      "metadata": {
        "id": "tPzYLpHQBqW2"
      },
      "execution_count": null,
      "outputs": []
    },
    {
      "cell_type": "code",
      "source": [
        "# Call select_features function\n",
        "selected_feature_names = select_features(X_train, y_train, num_features_to_select=10)\n",
        "\n",
        "# Display selected feature names\n",
        "print(\"Selected Feature Names:\")\n",
        "print(selected_feature_names)"
      ],
      "metadata": {
        "id": "um2lg-_3CVVa"
      },
      "execution_count": null,
      "outputs": []
    },
    {
      "cell_type": "code",
      "source": [
        "# Evaluate the model on the testing set\n",
        "y_pred = rf_classifier.predict(X_test)\n",
        "accuracy = accuracy_score(y_test, y_pred)\n",
        "report = classification_report(y_test, y_pred)\n",
        "print(f'Accuracy: {accuracy:.2f}')\n",
        "print('Classification Report:\\n', report)"
      ],
      "metadata": {
        "id": "5L56Zq1M3b4d"
      },
      "execution_count": null,
      "outputs": []
    },
    {
      "cell_type": "markdown",
      "source": [
        "## Visualization"
      ],
      "metadata": {
        "id": "jTQLFA8Z7KkM"
      }
    },
    {
      "cell_type": "code",
      "source": [
        "# Undestanding the number of trees in the random forest\n",
        "num_trees = rf_classifier.n_estimators\n",
        "print(\"Number of trees in the Random Forest:\", num_trees)"
      ],
      "metadata": {
        "id": "1ynVHvVu7fwY"
      },
      "execution_count": null,
      "outputs": []
    },
    {
      "cell_type": "code",
      "source": [
        "# Plotting individual trees in the Random Forest\n",
        "plt.figure(figsize=(20, 10))\n",
        "for i in range(3):\n",
        "    plt.subplot(1, 3, i+1)\n",
        "    plot_tree(rf_classifier.estimators_[i], filled=True, feature_names=X.columns, class_names=y.unique())\n",
        "    plt.title(f'Decision Tree {i+1}')\n",
        "plt.show()\n"
      ],
      "metadata": {
        "id": "i0LkMyg87NZa"
      },
      "execution_count": null,
      "outputs": []
    },
    {
      "cell_type": "markdown",
      "source": [
        "## Testing"
      ],
      "metadata": {
        "id": "FLCx01fg7qfq"
      }
    },
    {
      "cell_type": "markdown",
      "source": [
        "The following datasets can be found at: https://research.unsw.edu.au/projects/unsw-nb15-dataset\n",
        "\n",
        "Network_dataset_10 contains instances of normal traffic and dos attacks"
      ],
      "metadata": {
        "id": "Vq9xGa1T-9j3"
      }
    },
    {
      "cell_type": "code",
      "source": [
        "# Load and preprocess the new dataset\n",
        "new_data = pd.read_csv('Network_dataset_10.csv')\n",
        "new_data = preprocess_df(new_data)\n",
        "\n",
        "# Separate features (X_new_data) from the target variable (y_new_data)\n",
        "X_new_data = new_data.drop('type', axis=1)\n",
        "y_new_data = new_data['type']\n",
        "\n",
        "# Ensure feature names match those seen during training\n",
        "new_X = X_new_data.reindex(columns=X.columns, fill_value=0)\n",
        "\n",
        "# Predict using the trained model\n",
        "new_y_pred = rf_classifier.predict(new_X)\n",
        "\n",
        "# Evaluate the model\n",
        "new_accuracy = accuracy_score(y_new_data, new_y_pred)\n",
        "new_report = classification_report(y_new_data, new_y_pred)\n",
        "\n",
        "# Print the accuracy and classification report\n",
        "print(f'Accuracy of the Random Forest model on the new dataset 10: {new_accuracy:.2f}')\n",
        "print('Classification Report for the new dataset 10:\\n', new_report)"
      ],
      "metadata": {
        "id": "9GLXbp9dN2MN"
      },
      "execution_count": null,
      "outputs": []
    },
    {
      "cell_type": "code",
      "source": [
        "# Load and preprocess the new dataset\n",
        "new_data = pd.read_csv('Network_dataset_17.csv')\n",
        "new_data = preprocess_df(new_data)\n",
        "\n",
        "# Separate features (X_new_data) from the  variable (y_new_data)\n",
        "X_new_data = new_data.drop('type', axis=1)\n",
        "y_new_data = new_data['type']\n",
        "\n",
        "# Ensure feature names match those seen during training\n",
        "new_X = X_new_data.reindex(columns=X.columns, fill_value=0)\n",
        "\n",
        "# Predict using the trained model\n",
        "new_y_pred = rf_classifier.predict(new_X)\n",
        "\n",
        "# Evaluate the model\n",
        "new_accuracy = accuracy_score(y_new_data, new_y_pred)\n",
        "new_report = classification_report(y_new_data, new_y_pred)\n",
        "\n",
        "# Print the accuracy and classification report\n",
        "print(f'Accuracy of the Random Forest model on the new dataset 17: {new_accuracy:.2f}')\n",
        "print('Classification Report for the new dataset 17:\\n', new_report)"
      ],
      "metadata": {
        "id": "-PBy2KID608K"
      },
      "execution_count": null,
      "outputs": []
    },
    {
      "cell_type": "code",
      "source": [
        "# Load and preprocess the new dataset\n",
        "new_data = pd.read_csv('Network_dataset_11.csv')\n",
        "new_data = preprocess_df(new_data)\n",
        "\n",
        "# Separate features (X_new_data) from the  variable (y_new_data)\n",
        "X_new_data = new_data.drop('type', axis=1)\n",
        "y_new_data = new_data['type']\n",
        "\n",
        "# Ensure feature names match those seen during training\n",
        "new_X = X_new_data.reindex(columns=X.columns, fill_value=0)\n",
        "\n",
        "# Predict using the trained model\n",
        "new_y_pred = rf_classifier.predict(new_X)\n",
        "\n",
        "# Evaluate the model\n",
        "new_accuracy = accuracy_score(y_new_data, new_y_pred)\n",
        "new_report = classification_report(y_new_data, new_y_pred)\n",
        "\n",
        "# Print the accuracy and classification report\n",
        "print(f'Accuracy of the Random Forest model on the new dataset 11: {new_accuracy:.2f}')\n",
        "print('Classification Report for the new dataset 11:\\n', new_report)"
      ],
      "metadata": {
        "id": "0ZneF0rEABra"
      },
      "execution_count": null,
      "outputs": []
    }
  ]
}