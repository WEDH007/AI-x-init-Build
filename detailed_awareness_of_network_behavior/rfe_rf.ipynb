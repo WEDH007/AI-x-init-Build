{
 "cells": [
  {
   "cell_type": "code",
   "execution_count": null,
   "metadata": {},
   "outputs": [],
   "source": [
    "# Cell 1: Import Libraries\n",
    "import pandas as pd\n",
    "from sklearn.model_selection import train_test_split\n",
    "from sklearn.ensemble import RandomForestClassifier\n",
    "from sklearn.feature_selection import RFE\n",
    "from sklearn.metrics import accuracy_score, classification_report\n",
    "from sklearn.preprocessing import StandardScaler, OneHotEncoder\n",
    "from joblib import dump\n",
    "import time\n"
   ]
  },
  {
   "cell_type": "code",
   "execution_count": null,
   "metadata": {},
   "outputs": [],
   "source": [
    "# Cell 2: Define Preprocessing Function\n",
    "def preprocess_df(df):\n",
    "    # Remove any non-numeric columns that cannot be converted directly to float\n",
    "    non_numeric_columns = df.select_dtypes(include=['object', 'bool']).columns.tolist()\n",
    "    df = pd.get_dummies(df, columns=non_numeric_columns, drop_first=True)\n",
    "    \n",
    "    # Fill any NaN values in numeric columns\n",
    "    numeric_cols = df.select_dtypes(include=['float64', 'int64']).columns\n",
    "    df[numeric_cols] = df[numeric_cols].apply(lambda x: x.fillna(x.median()))\n",
    "    \n",
    "    return df\n"
   ]
  },
  {
   "cell_type": "code",
   "execution_count": null,
   "metadata": {},
   "outputs": [],
   "source": [
    "# Cell 3: Load and Preprocess the Data\n",
    "print(\"Loading initial dataset...\")\n",
    "df = pd.read_csv('Merged_Network_dataset.csv')  # Update the path if hosted on Google Drive\n",
    "df = preprocess_df(df)\n",
    "print(\"Dataset loaded and preprocessed.\")\n"
   ]
  },
  {
   "cell_type": "code",
   "execution_count": null,
   "metadata": {},
   "outputs": [],
   "source": [
    "# Cell 4: Setup Data for Model Training\n",
    "y = df['type']\n",
    "X = df.drop('type', axis=1)\n",
    "X_train, X_test, y_train, y_test = train_test_split(X, y, test_size=0.25, random_state=42)\n"
   ]
  },
  {
   "cell_type": "code",
   "execution_count": null,
   "metadata": {},
   "outputs": [],
   "source": [
    "# Cell 5: Apply RFE and Identify Important Features\n",
    "print(\"Fitting model for RFE...\")\n",
    "rfe_model = RandomForestClassifier(random_state=42)\n",
    "rfe = RFE(rfe_model, n_features_to_select=15)  # Adjust the number of features as needed\n",
    "rfe.fit(X_train, y_train)\n",
    "features_to_keep = X.columns[rfe.support_]\n",
    "print(\"Selected features:\", features_to_keep)\n"
   ]
  },
  {
   "cell_type": "code",
   "execution_count": null,
   "metadata": {},
   "outputs": [],
   "source": [
    "# Cell 6: Train Final Model Using Selected Features\n",
    "X_train = X_train[features_to_keep]\n",
    "X_test = X_test[features_to_keep]\n",
    "rf_classifier = RandomForestClassifier(random_state=42)\n",
    "rf_classifier.fit(X_train, y_train)\n",
    "\n",
    "# Evaluate Model\n",
    "y_pred = rf_classifier.predict(X_test)\n",
    "accuracy = accuracy_score(y_test, y_pred)\n",
    "report = classification_report(y_test, y_pred)\n",
    "print(f'Testing Accuracy: {accuracy:.2f}')\n",
    "print('Classification Report:\\n', report)\n"
   ]
  },
  {
   "cell_type": "code",
   "execution_count": null,
   "metadata": {},
   "outputs": [],
   "source": [
    "# Cell 7: Save the Model for Future Use\n",
    "dump(rf_classifier, 'random_forest_model.joblib')\n",
    "print(\"Model saved.\")\n"
   ]
  }
 ],
 "metadata": {
  "language_info": {
   "name": "python"
  }
 },
 "nbformat": 4,
 "nbformat_minor": 2
}
