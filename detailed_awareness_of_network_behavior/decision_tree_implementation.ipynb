{
 "cells": [
  {
   "cell_type": "markdown",
   "metadata": {},
   "source": [
    "# Decision Tree Implementation"
   ]
  },
  {
   "cell_type": "markdown",
   "metadata": {},
   "source": [
    "## Preprocessing"
   ]
  },
  {
   "cell_type": "code",
   "execution_count": 9,
   "metadata": {},
   "outputs": [],
   "source": [
    "import pandas as pd\n",
    "\n",
    "# Load the dataset\n",
    "data_path = 'train_test_network.csv'\n",
    "df = pd.read_csv(data_path)\n",
    "\n",
    "# Define features to drop, including IP addresses, ports, and other specified features\n",
    "features_to_drop = ['src_ip', 'dst_ip', 'src_port', 'dst_port', 'ssl_version', 'ssl_cipher', 'ssl_subject', 'ssl_issuer']\n",
    "df = df.drop(columns=features_to_drop)\n",
    "\n",
    "# Exclude 'type' from the list of categorical columns for encoding\n",
    "categorical_cols = df.select_dtypes(include=['object', 'bool']).columns.tolist()\n",
    "categorical_cols.remove('type')  # Exclude 'type' column\n",
    "\n",
    "# Fill missing numeric values with the median\n",
    "numeric_cols = df.select_dtypes(include=['float64', 'int64']).columns\n",
    "df[numeric_cols] = df[numeric_cols].apply(lambda x: x.fillna(x.median()))\n",
    "\n",
    "# Fill missing categorical values with the mode (excluding 'type')\n",
    "df[categorical_cols] = df[categorical_cols].apply(lambda x: x.fillna(x.mode()[0]))\n",
    "\n",
    "# Encode the categorical variables (excluding 'type')\n",
    "df = pd.get_dummies(df, columns=categorical_cols)\n",
    "\n",
    "# Now, 'type' is not altered and is ready to be used as the target variable for model training.\n",
    "\n",
    "# Proceed with scaling the numeric features\n",
    "from sklearn.preprocessing import StandardScaler\n",
    "\n",
    "scaler = StandardScaler()\n",
    "df[numeric_cols] = scaler.fit_transform(df[numeric_cols])\n",
    "\n",
    "# Your dataset is now ready for training and testing the model.\n"
   ]
  },
  {
   "cell_type": "markdown",
   "metadata": {},
   "source": [
    "## Training model"
   ]
  },
  {
   "cell_type": "code",
   "execution_count": 10,
   "metadata": {},
   "outputs": [
    {
     "name": "stdout",
     "output_type": "stream",
     "text": [
      "Training set size: 168834 rows\n",
      "Testing set size: 42209 rows\n"
     ]
    }
   ],
   "source": [
    "from sklearn.model_selection import train_test_split\n",
    "\n",
    "# Separate the features (X) from the target variable (y)\n",
    "X = df.drop('type', axis=1)  # Features\n",
    "y = df['type']  # Target variable\n",
    "\n",
    "# Split the dataset into training (80%) and testing (20%) sets\n",
    "X_train, X_test, y_train, y_test = train_test_split(X, y, test_size=0.2, random_state=42)\n",
    "\n",
    "# Check the size of the splits\n",
    "print(f\"Training set size: {X_train.shape[0]} rows\")\n",
    "print(f\"Testing set size: {X_test.shape[0]} rows\")\n"
   ]
  },
  {
   "cell_type": "code",
   "execution_count": 11,
   "metadata": {},
   "outputs": [
    {
     "name": "stdout",
     "output_type": "stream",
     "text": [
      "Decision Tree model training completed.\n"
     ]
    }
   ],
   "source": [
    "from sklearn.tree import DecisionTreeClassifier\n",
    "\n",
    "# Initialize the Decision Tree Classifier\n",
    "dt_classifier = DecisionTreeClassifier(random_state=42)\n",
    "\n",
    "# Train the model on the training set\n",
    "dt_classifier.fit(X_train, y_train)\n",
    "\n",
    "# Display a message to confirm training completion\n",
    "print(\"Decision Tree model training completed.\")\n"
   ]
  },
  {
   "cell_type": "code",
   "execution_count": 12,
   "metadata": {},
   "outputs": [
    {
     "name": "stdout",
     "output_type": "stream",
     "text": [
      "Accuracy of the Decision Tree model on the test set: 0.98\n",
      "Classification Report:\n",
      "               precision    recall  f1-score   support\n",
      "\n",
      "    backdoor       1.00      1.00      1.00      3919\n",
      "        ddos       0.98      0.97      0.98      4065\n",
      "         dos       0.99      0.98      0.99      3934\n",
      "   injection       0.96      0.97      0.97      3978\n",
      "        mitm       0.70      0.79      0.74       213\n",
      "      normal       1.00      1.00      1.00     10021\n",
      "    password       0.99      0.97      0.98      3968\n",
      "  ransomware       0.91      0.98      0.95      4047\n",
      "    scanning       0.99      0.99      0.99      4015\n",
      "         xss       0.95      0.90      0.92      4049\n",
      "\n",
      "    accuracy                           0.98     42209\n",
      "   macro avg       0.95      0.96      0.95     42209\n",
      "weighted avg       0.98      0.98      0.98     42209\n",
      "\n"
     ]
    }
   ],
   "source": [
    "from sklearn.metrics import accuracy_score, classification_report\n",
    "\n",
    "# Predict the labels for the test set\n",
    "y_pred = dt_classifier.predict(X_test)\n",
    "\n",
    "# Calculate and print the accuracy\n",
    "accuracy = accuracy_score(y_test, y_pred)\n",
    "print(f\"Accuracy of the Decision Tree model on the test set: {accuracy:.2f}\")\n",
    "\n",
    "# Generate a classification report\n",
    "report = classification_report(y_test, y_pred)\n",
    "print(\"Classification Report:\\n\", report)\n"
   ]
  }
 ],
 "metadata": {
  "kernelspec": {
   "display_name": "Python 3",
   "language": "python",
   "name": "python3"
  },
  "language_info": {
   "codemirror_mode": {
    "name": "ipython",
    "version": 3
   },
   "file_extension": ".py",
   "mimetype": "text/x-python",
   "name": "python",
   "nbconvert_exporter": "python",
   "pygments_lexer": "ipython3",
   "version": "3.11.5"
  }
 },
 "nbformat": 4,
 "nbformat_minor": 2
}
